{
 "cells": [
  {
   "cell_type": "markdown",
   "metadata": {},
   "source": [
    "### **New York City vs Toronto - City of Opportunities**"
   ]
  },
  {
   "cell_type": "markdown",
   "metadata": {},
   "source": [
    "### 1.Business Understanding"
   ]
  },
  {
   "cell_type": "markdown",
   "metadata": {},
   "source": [
    "#### **Problem Statement**"
   ]
  },
  {
   "cell_type": "markdown",
   "metadata": {},
   "source": [
    "One of my client reached out to me with an intention of opening a restaurant either in NY city or Toronto. He asked me to come up with suggestions with supporting artefacts. "
   ]
  },
  {
   "cell_type": "markdown",
   "metadata": {},
   "source": [
    "#### **Background**"
   ]
  },
  {
   "cell_type": "markdown",
   "metadata": {},
   "source": [
    "Just to give a brief introduction about my client, he is food lover! he would like to travel across the globe, meet with people, and the community, understand their neighbourhood, their cultures et. Out of everything, the one thing he loves the most is the food. From local road side food to exotic international cuisines, he have lot of love and appreciation for their look, feel and taste. Being enjoying the variety of food for several years, it is always his wish to open a restaurant to serve delicious food for the craving tastebuds. \n",
    "\n",
    "Within the two great cities, New York and Toronto, he would like to know which city provide more opportunities to realise his wish and to be successful. \n",
    "\n",
    "Provided there are several publicly available data sources like wiki, Foursquare etc.,  I would like to source the datasets, clean and transform as required, analyse using visual tools and techniques and summarise my findings to help my client to make a decision."
   ]
  },
  {
   "cell_type": "markdown",
   "metadata": {},
   "source": [
    "##### **About the cities**"
   ]
  },
  {
   "cell_type": "markdown",
   "metadata": {},
   "source": [
    "##### Similarities"
   ]
  },
  {
   "cell_type": "markdown",
   "metadata": {},
   "source": [
    "1. Both the largest cities in their respective countries.\n",
    "2. Both the financial and tourist capitals of their countries\n",
    "3. Both have a high cost of living\n",
    "4. Both have a network of subways, trains and buses serving their greater areas\n",
    "5. Both are known for their skyscrapers (albeit, Toronto's are limited to its Financial District; New York's cover all of Manhattan)\n",
    "6. Both are extremely multi-ethnic, although Toronto is more so (49% of TOs citizens were born somewhere else, compared to 36% of NYC's)\n",
    "7. Both are theatre capitals of the English-speaking world"
   ]
  },
  {
   "cell_type": "markdown",
   "metadata": {},
   "source": [
    "##### Differences"
   ]
  },
  {
   "cell_type": "markdown",
   "metadata": {},
   "source": [
    "1. While both TO and NYC are distinctively North American, Toronto has somewhat more of a European vibe to it. TO, with its sprawl and pubs on every street corner reminds me a bit of London, whereas NYC does not.\n",
    "2. Very strong \"Britishness\" to the names of Toronto's districts, neighbourhoods and streets\n",
    "3. New York is brilliantly planned. If you're in New York for a three-day weekend, get a hotel in Midtown Manhattan and nearly everything you'll want to see, do and visit will be within walking distance. ... Toronto is much more sprawled out and you'll need to use the subway lots. (3 of TO's biggest attractions: the CN Tower, the Royal Ontario Museum, the Ontario Science Centre and Casa Loma, are nowhere near each other)\n",
    "4. New Yorkers are loud and in your face, but friendly; Torontonians are more polite than New Yorkers, but they are much more aloof and reserved.\n",
    "5. New York has AMAZING pizza and the best Italian restaurants in North America; Toronto has quite possibly the worst pizza on the planet\n",
    "6. A typical New York City watering hole is a place with a long bar and a baseball game on TV; a typical Toronto watering hole is a British/Irish-type pub with beer served in proper pints."
   ]
  },
  {
   "cell_type": "code",
   "execution_count": null,
   "metadata": {},
   "outputs": [],
   "source": []
  }
 ],
 "metadata": {
  "kernelspec": {
   "display_name": "Python",
   "language": "python",
   "name": "conda-env-python-py"
  },
  "language_info": {
   "codemirror_mode": {
    "name": "ipython",
    "version": 3
   },
   "file_extension": ".py",
   "mimetype": "text/x-python",
   "name": "python",
   "nbconvert_exporter": "python",
   "pygments_lexer": "ipython3",
   "version": "3.6.7"
  }
 },
 "nbformat": 4,
 "nbformat_minor": 4
}
